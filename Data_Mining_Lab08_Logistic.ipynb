{
  "cells": [
    {
      "cell_type": "markdown",
      "metadata": {
        "id": "view-in-github",
        "colab_type": "text"
      },
      "source": [
        "<a href=\"https://colab.research.google.com/github/mishrark0145/datamining/blob/main/Data_Mining_Lab08_Logistic.ipynb\" target=\"_parent\"><img src=\"https://colab.research.google.com/assets/colab-badge.svg\" alt=\"Open In Colab\"/></a>"
      ]
    },
    {
      "cell_type": "code",
      "execution_count": null,
      "id": "c67ee8e5",
      "metadata": {
        "id": "c67ee8e5"
      },
      "outputs": [],
      "source": [
        "import pandas as pd\n",
        "import numpy as np\n",
        "import matplotlib.pyplot as plt"
      ]
    },
    {
      "cell_type": "markdown",
      "id": "a382a47a",
      "metadata": {
        "id": "a382a47a"
      },
      "source": [
        "<b>Reading Data"
      ]
    },
    {
      "cell_type": "code",
      "execution_count": null,
      "id": "bd3318c8",
      "metadata": {
        "id": "bd3318c8"
      },
      "outputs": [],
      "source": [
        "#importing the data set\n",
        "diabetes_data=pd.read_csv('/content/diabetes.csv')"
      ]
    },
    {
      "cell_type": "code",
      "execution_count": null,
      "id": "c6aa14c7",
      "metadata": {
        "scrolled": true,
        "colab": {
          "base_uri": "https://localhost:8080/",
          "height": 206
        },
        "id": "c6aa14c7",
        "outputId": "807d8f34-72f8-4b70-c7fb-125443857470"
      },
      "outputs": [
        {
          "output_type": "execute_result",
          "data": {
            "text/plain": [
              "   Pregnancies  Glucose  BloodPressure  SkinThickness  Insulin   BMI  \\\n",
              "0            6      148             72             35        0  33.6   \n",
              "1            1       85             66             29        0  26.6   \n",
              "2            8      183             64              0        0  23.3   \n",
              "3            1       89             66             23       94  28.1   \n",
              "4            0      137             40             35      168  43.1   \n",
              "\n",
              "   DiabetesPedigreeFunction  Age  Outcome  \n",
              "0                     0.627   50        1  \n",
              "1                     0.351   31        0  \n",
              "2                     0.672   32        1  \n",
              "3                     0.167   21        0  \n",
              "4                     2.288   33        1  "
            ],
            "text/html": [
              "\n",
              "  <div id=\"df-691e62e9-4bee-46b9-8124-f216a51b12a1\" class=\"colab-df-container\">\n",
              "    <div>\n",
              "<style scoped>\n",
              "    .dataframe tbody tr th:only-of-type {\n",
              "        vertical-align: middle;\n",
              "    }\n",
              "\n",
              "    .dataframe tbody tr th {\n",
              "        vertical-align: top;\n",
              "    }\n",
              "\n",
              "    .dataframe thead th {\n",
              "        text-align: right;\n",
              "    }\n",
              "</style>\n",
              "<table border=\"1\" class=\"dataframe\">\n",
              "  <thead>\n",
              "    <tr style=\"text-align: right;\">\n",
              "      <th></th>\n",
              "      <th>Pregnancies</th>\n",
              "      <th>Glucose</th>\n",
              "      <th>BloodPressure</th>\n",
              "      <th>SkinThickness</th>\n",
              "      <th>Insulin</th>\n",
              "      <th>BMI</th>\n",
              "      <th>DiabetesPedigreeFunction</th>\n",
              "      <th>Age</th>\n",
              "      <th>Outcome</th>\n",
              "    </tr>\n",
              "  </thead>\n",
              "  <tbody>\n",
              "    <tr>\n",
              "      <th>0</th>\n",
              "      <td>6</td>\n",
              "      <td>148</td>\n",
              "      <td>72</td>\n",
              "      <td>35</td>\n",
              "      <td>0</td>\n",
              "      <td>33.6</td>\n",
              "      <td>0.627</td>\n",
              "      <td>50</td>\n",
              "      <td>1</td>\n",
              "    </tr>\n",
              "    <tr>\n",
              "      <th>1</th>\n",
              "      <td>1</td>\n",
              "      <td>85</td>\n",
              "      <td>66</td>\n",
              "      <td>29</td>\n",
              "      <td>0</td>\n",
              "      <td>26.6</td>\n",
              "      <td>0.351</td>\n",
              "      <td>31</td>\n",
              "      <td>0</td>\n",
              "    </tr>\n",
              "    <tr>\n",
              "      <th>2</th>\n",
              "      <td>8</td>\n",
              "      <td>183</td>\n",
              "      <td>64</td>\n",
              "      <td>0</td>\n",
              "      <td>0</td>\n",
              "      <td>23.3</td>\n",
              "      <td>0.672</td>\n",
              "      <td>32</td>\n",
              "      <td>1</td>\n",
              "    </tr>\n",
              "    <tr>\n",
              "      <th>3</th>\n",
              "      <td>1</td>\n",
              "      <td>89</td>\n",
              "      <td>66</td>\n",
              "      <td>23</td>\n",
              "      <td>94</td>\n",
              "      <td>28.1</td>\n",
              "      <td>0.167</td>\n",
              "      <td>21</td>\n",
              "      <td>0</td>\n",
              "    </tr>\n",
              "    <tr>\n",
              "      <th>4</th>\n",
              "      <td>0</td>\n",
              "      <td>137</td>\n",
              "      <td>40</td>\n",
              "      <td>35</td>\n",
              "      <td>168</td>\n",
              "      <td>43.1</td>\n",
              "      <td>2.288</td>\n",
              "      <td>33</td>\n",
              "      <td>1</td>\n",
              "    </tr>\n",
              "  </tbody>\n",
              "</table>\n",
              "</div>\n",
              "    <div class=\"colab-df-buttons\">\n",
              "\n",
              "  <div class=\"colab-df-container\">\n",
              "    <button class=\"colab-df-convert\" onclick=\"convertToInteractive('df-691e62e9-4bee-46b9-8124-f216a51b12a1')\"\n",
              "            title=\"Convert this dataframe to an interactive table.\"\n",
              "            style=\"display:none;\">\n",
              "\n",
              "  <svg xmlns=\"http://www.w3.org/2000/svg\" height=\"24px\" viewBox=\"0 -960 960 960\">\n",
              "    <path d=\"M120-120v-720h720v720H120Zm60-500h600v-160H180v160Zm220 220h160v-160H400v160Zm0 220h160v-160H400v160ZM180-400h160v-160H180v160Zm440 0h160v-160H620v160ZM180-180h160v-160H180v160Zm440 0h160v-160H620v160Z\"/>\n",
              "  </svg>\n",
              "    </button>\n",
              "\n",
              "  <style>\n",
              "    .colab-df-container {\n",
              "      display:flex;\n",
              "      gap: 12px;\n",
              "    }\n",
              "\n",
              "    .colab-df-convert {\n",
              "      background-color: #E8F0FE;\n",
              "      border: none;\n",
              "      border-radius: 50%;\n",
              "      cursor: pointer;\n",
              "      display: none;\n",
              "      fill: #1967D2;\n",
              "      height: 32px;\n",
              "      padding: 0 0 0 0;\n",
              "      width: 32px;\n",
              "    }\n",
              "\n",
              "    .colab-df-convert:hover {\n",
              "      background-color: #E2EBFA;\n",
              "      box-shadow: 0px 1px 2px rgba(60, 64, 67, 0.3), 0px 1px 3px 1px rgba(60, 64, 67, 0.15);\n",
              "      fill: #174EA6;\n",
              "    }\n",
              "\n",
              "    .colab-df-buttons div {\n",
              "      margin-bottom: 4px;\n",
              "    }\n",
              "\n",
              "    [theme=dark] .colab-df-convert {\n",
              "      background-color: #3B4455;\n",
              "      fill: #D2E3FC;\n",
              "    }\n",
              "\n",
              "    [theme=dark] .colab-df-convert:hover {\n",
              "      background-color: #434B5C;\n",
              "      box-shadow: 0px 1px 3px 1px rgba(0, 0, 0, 0.15);\n",
              "      filter: drop-shadow(0px 1px 2px rgba(0, 0, 0, 0.3));\n",
              "      fill: #FFFFFF;\n",
              "    }\n",
              "  </style>\n",
              "\n",
              "    <script>\n",
              "      const buttonEl =\n",
              "        document.querySelector('#df-691e62e9-4bee-46b9-8124-f216a51b12a1 button.colab-df-convert');\n",
              "      buttonEl.style.display =\n",
              "        google.colab.kernel.accessAllowed ? 'block' : 'none';\n",
              "\n",
              "      async function convertToInteractive(key) {\n",
              "        const element = document.querySelector('#df-691e62e9-4bee-46b9-8124-f216a51b12a1');\n",
              "        const dataTable =\n",
              "          await google.colab.kernel.invokeFunction('convertToInteractive',\n",
              "                                                    [key], {});\n",
              "        if (!dataTable) return;\n",
              "\n",
              "        const docLinkHtml = 'Like what you see? Visit the ' +\n",
              "          '<a target=\"_blank\" href=https://colab.research.google.com/notebooks/data_table.ipynb>data table notebook</a>'\n",
              "          + ' to learn more about interactive tables.';\n",
              "        element.innerHTML = '';\n",
              "        dataTable['output_type'] = 'display_data';\n",
              "        await google.colab.output.renderOutput(dataTable, element);\n",
              "        const docLink = document.createElement('div');\n",
              "        docLink.innerHTML = docLinkHtml;\n",
              "        element.appendChild(docLink);\n",
              "      }\n",
              "    </script>\n",
              "  </div>\n",
              "\n",
              "\n",
              "<div id=\"df-63485875-210b-410c-be34-64563bcb69f3\">\n",
              "  <button class=\"colab-df-quickchart\" onclick=\"quickchart('df-63485875-210b-410c-be34-64563bcb69f3')\"\n",
              "            title=\"Suggest charts\"\n",
              "            style=\"display:none;\">\n",
              "\n",
              "<svg xmlns=\"http://www.w3.org/2000/svg\" height=\"24px\"viewBox=\"0 0 24 24\"\n",
              "     width=\"24px\">\n",
              "    <g>\n",
              "        <path d=\"M19 3H5c-1.1 0-2 .9-2 2v14c0 1.1.9 2 2 2h14c1.1 0 2-.9 2-2V5c0-1.1-.9-2-2-2zM9 17H7v-7h2v7zm4 0h-2V7h2v10zm4 0h-2v-4h2v4z\"/>\n",
              "    </g>\n",
              "</svg>\n",
              "  </button>\n",
              "\n",
              "<style>\n",
              "  .colab-df-quickchart {\n",
              "      --bg-color: #E8F0FE;\n",
              "      --fill-color: #1967D2;\n",
              "      --hover-bg-color: #E2EBFA;\n",
              "      --hover-fill-color: #174EA6;\n",
              "      --disabled-fill-color: #AAA;\n",
              "      --disabled-bg-color: #DDD;\n",
              "  }\n",
              "\n",
              "  [theme=dark] .colab-df-quickchart {\n",
              "      --bg-color: #3B4455;\n",
              "      --fill-color: #D2E3FC;\n",
              "      --hover-bg-color: #434B5C;\n",
              "      --hover-fill-color: #FFFFFF;\n",
              "      --disabled-bg-color: #3B4455;\n",
              "      --disabled-fill-color: #666;\n",
              "  }\n",
              "\n",
              "  .colab-df-quickchart {\n",
              "    background-color: var(--bg-color);\n",
              "    border: none;\n",
              "    border-radius: 50%;\n",
              "    cursor: pointer;\n",
              "    display: none;\n",
              "    fill: var(--fill-color);\n",
              "    height: 32px;\n",
              "    padding: 0;\n",
              "    width: 32px;\n",
              "  }\n",
              "\n",
              "  .colab-df-quickchart:hover {\n",
              "    background-color: var(--hover-bg-color);\n",
              "    box-shadow: 0 1px 2px rgba(60, 64, 67, 0.3), 0 1px 3px 1px rgba(60, 64, 67, 0.15);\n",
              "    fill: var(--button-hover-fill-color);\n",
              "  }\n",
              "\n",
              "  .colab-df-quickchart-complete:disabled,\n",
              "  .colab-df-quickchart-complete:disabled:hover {\n",
              "    background-color: var(--disabled-bg-color);\n",
              "    fill: var(--disabled-fill-color);\n",
              "    box-shadow: none;\n",
              "  }\n",
              "\n",
              "  .colab-df-spinner {\n",
              "    border: 2px solid var(--fill-color);\n",
              "    border-color: transparent;\n",
              "    border-bottom-color: var(--fill-color);\n",
              "    animation:\n",
              "      spin 1s steps(1) infinite;\n",
              "  }\n",
              "\n",
              "  @keyframes spin {\n",
              "    0% {\n",
              "      border-color: transparent;\n",
              "      border-bottom-color: var(--fill-color);\n",
              "      border-left-color: var(--fill-color);\n",
              "    }\n",
              "    20% {\n",
              "      border-color: transparent;\n",
              "      border-left-color: var(--fill-color);\n",
              "      border-top-color: var(--fill-color);\n",
              "    }\n",
              "    30% {\n",
              "      border-color: transparent;\n",
              "      border-left-color: var(--fill-color);\n",
              "      border-top-color: var(--fill-color);\n",
              "      border-right-color: var(--fill-color);\n",
              "    }\n",
              "    40% {\n",
              "      border-color: transparent;\n",
              "      border-right-color: var(--fill-color);\n",
              "      border-top-color: var(--fill-color);\n",
              "    }\n",
              "    60% {\n",
              "      border-color: transparent;\n",
              "      border-right-color: var(--fill-color);\n",
              "    }\n",
              "    80% {\n",
              "      border-color: transparent;\n",
              "      border-right-color: var(--fill-color);\n",
              "      border-bottom-color: var(--fill-color);\n",
              "    }\n",
              "    90% {\n",
              "      border-color: transparent;\n",
              "      border-bottom-color: var(--fill-color);\n",
              "    }\n",
              "  }\n",
              "</style>\n",
              "\n",
              "  <script>\n",
              "    async function quickchart(key) {\n",
              "      const quickchartButtonEl =\n",
              "        document.querySelector('#' + key + ' button');\n",
              "      quickchartButtonEl.disabled = true;  // To prevent multiple clicks.\n",
              "      quickchartButtonEl.classList.add('colab-df-spinner');\n",
              "      try {\n",
              "        const charts = await google.colab.kernel.invokeFunction(\n",
              "            'suggestCharts', [key], {});\n",
              "      } catch (error) {\n",
              "        console.error('Error during call to suggestCharts:', error);\n",
              "      }\n",
              "      quickchartButtonEl.classList.remove('colab-df-spinner');\n",
              "      quickchartButtonEl.classList.add('colab-df-quickchart-complete');\n",
              "    }\n",
              "    (() => {\n",
              "      let quickchartButtonEl =\n",
              "        document.querySelector('#df-63485875-210b-410c-be34-64563bcb69f3 button');\n",
              "      quickchartButtonEl.style.display =\n",
              "        google.colab.kernel.accessAllowed ? 'block' : 'none';\n",
              "    })();\n",
              "  </script>\n",
              "</div>\n",
              "    </div>\n",
              "  </div>\n"
            ],
            "application/vnd.google.colaboratory.intrinsic+json": {
              "type": "dataframe",
              "variable_name": "diabetes_data",
              "summary": "{\n  \"name\": \"diabetes_data\",\n  \"rows\": 768,\n  \"fields\": [\n    {\n      \"column\": \"Pregnancies\",\n      \"properties\": {\n        \"dtype\": \"number\",\n        \"std\": 3,\n        \"min\": 0,\n        \"max\": 17,\n        \"num_unique_values\": 17,\n        \"samples\": [\n          6,\n          1,\n          3\n        ],\n        \"semantic_type\": \"\",\n        \"description\": \"\"\n      }\n    },\n    {\n      \"column\": \"Glucose\",\n      \"properties\": {\n        \"dtype\": \"number\",\n        \"std\": 31,\n        \"min\": 0,\n        \"max\": 199,\n        \"num_unique_values\": 136,\n        \"samples\": [\n          151,\n          101,\n          112\n        ],\n        \"semantic_type\": \"\",\n        \"description\": \"\"\n      }\n    },\n    {\n      \"column\": \"BloodPressure\",\n      \"properties\": {\n        \"dtype\": \"number\",\n        \"std\": 19,\n        \"min\": 0,\n        \"max\": 122,\n        \"num_unique_values\": 47,\n        \"samples\": [\n          86,\n          46,\n          85\n        ],\n        \"semantic_type\": \"\",\n        \"description\": \"\"\n      }\n    },\n    {\n      \"column\": \"SkinThickness\",\n      \"properties\": {\n        \"dtype\": \"number\",\n        \"std\": 15,\n        \"min\": 0,\n        \"max\": 99,\n        \"num_unique_values\": 51,\n        \"samples\": [\n          7,\n          12,\n          48\n        ],\n        \"semantic_type\": \"\",\n        \"description\": \"\"\n      }\n    },\n    {\n      \"column\": \"Insulin\",\n      \"properties\": {\n        \"dtype\": \"number\",\n        \"std\": 115,\n        \"min\": 0,\n        \"max\": 846,\n        \"num_unique_values\": 186,\n        \"samples\": [\n          52,\n          41,\n          183\n        ],\n        \"semantic_type\": \"\",\n        \"description\": \"\"\n      }\n    },\n    {\n      \"column\": \"BMI\",\n      \"properties\": {\n        \"dtype\": \"number\",\n        \"std\": 7.884160320375446,\n        \"min\": 0.0,\n        \"max\": 67.1,\n        \"num_unique_values\": 248,\n        \"samples\": [\n          19.9,\n          31.0,\n          38.1\n        ],\n        \"semantic_type\": \"\",\n        \"description\": \"\"\n      }\n    },\n    {\n      \"column\": \"DiabetesPedigreeFunction\",\n      \"properties\": {\n        \"dtype\": \"number\",\n        \"std\": 0.3313285950127749,\n        \"min\": 0.078,\n        \"max\": 2.42,\n        \"num_unique_values\": 517,\n        \"samples\": [\n          1.731,\n          0.426,\n          0.138\n        ],\n        \"semantic_type\": \"\",\n        \"description\": \"\"\n      }\n    },\n    {\n      \"column\": \"Age\",\n      \"properties\": {\n        \"dtype\": \"number\",\n        \"std\": 11,\n        \"min\": 21,\n        \"max\": 81,\n        \"num_unique_values\": 52,\n        \"samples\": [\n          60,\n          47,\n          72\n        ],\n        \"semantic_type\": \"\",\n        \"description\": \"\"\n      }\n    },\n    {\n      \"column\": \"Outcome\",\n      \"properties\": {\n        \"dtype\": \"number\",\n        \"std\": 0,\n        \"min\": 0,\n        \"max\": 1,\n        \"num_unique_values\": 2,\n        \"samples\": [\n          0,\n          1\n        ],\n        \"semantic_type\": \"\",\n        \"description\": \"\"\n      }\n    }\n  ]\n}"
            }
          },
          "metadata": {},
          "execution_count": 3
        }
      ],
      "source": [
        "diabetes_data.head()"
      ]
    },
    {
      "cell_type": "markdown",
      "id": "8cfdd88e",
      "metadata": {
        "id": "8cfdd88e"
      },
      "source": [
        "Many columns in the give data have 0's as their values, so the data has to be cleaned and processed.\n",
        "\n",
        "\n",
        "The below cell shows how many zeros are present in each feature"
      ]
    },
    {
      "cell_type": "code",
      "execution_count": null,
      "id": "8c62894d",
      "metadata": {
        "colab": {
          "base_uri": "https://localhost:8080/"
        },
        "id": "8c62894d",
        "outputId": "a89bfda6-c863-4cb7-fd9b-eb83858440b5"
      },
      "outputs": [
        {
          "output_type": "execute_result",
          "data": {
            "text/plain": [
              "Pregnancies                 111\n",
              "Glucose                       5\n",
              "BloodPressure                35\n",
              "SkinThickness               227\n",
              "Insulin                     374\n",
              "BMI                          11\n",
              "DiabetesPedigreeFunction      0\n",
              "Age                           0\n",
              "Outcome                     500\n",
              "dtype: int64"
            ]
          },
          "metadata": {},
          "execution_count": 4
        }
      ],
      "source": [
        "(diabetes_data[:]==0).sum()"
      ]
    },
    {
      "cell_type": "code",
      "source": [
        "(diabetes_data[:]==0).sum()"
      ],
      "metadata": {
        "colab": {
          "base_uri": "https://localhost:8080/"
        },
        "id": "CX7pOTKaEo2x",
        "outputId": "54abe890-b9c6-4d34-e565-23e4d3a7acb0"
      },
      "id": "CX7pOTKaEo2x",
      "execution_count": null,
      "outputs": [
        {
          "output_type": "execute_result",
          "data": {
            "text/plain": [
              "Pregnancies                 111\n",
              "Glucose                       5\n",
              "BloodPressure                35\n",
              "SkinThickness               227\n",
              "Insulin                     374\n",
              "BMI                          11\n",
              "DiabetesPedigreeFunction      0\n",
              "Age                           0\n",
              "Outcome                     500\n",
              "dtype: int64"
            ]
          },
          "metadata": {},
          "execution_count": 5
        }
      ]
    },
    {
      "cell_type": "markdown",
      "id": "36d360c5",
      "metadata": {
        "id": "36d360c5"
      },
      "source": [
        "<b>Splitting the dataset into training(60%), validation(20%) and test data(20%)"
      ]
    },
    {
      "cell_type": "code",
      "execution_count": null,
      "id": "4a4707c1",
      "metadata": {
        "id": "4a4707c1"
      },
      "outputs": [],
      "source": [
        "train_data, test_data, validation_data  = np.split( diabetes_data.sample(frac=1,random_state=69), [int(.6*len(diabetes_data)), int(.8*len(diabetes_data))])"
      ]
    },
    {
      "cell_type": "code",
      "execution_count": null,
      "id": "ab790fdd",
      "metadata": {
        "colab": {
          "base_uri": "https://localhost:8080/",
          "height": 468
        },
        "id": "ab790fdd",
        "outputId": "e0ea5f48-c600-47b8-83ad-c2ba74ffe65f"
      },
      "outputs": [
        {
          "output_type": "display_data",
          "data": {
            "text/plain": [
              "<Figure size 1000x500 with 1 Axes>"
            ],
            "image/png": "[encoded data removed]"
          },
          "metadata": {}
        }
      ],
      "source": [
        "data = {'Training Data':len(train_data), 'Validation Data':len(validation_data), 'Test Data':len(test_data)}\n",
        "Data_split = list(data.keys())\n",
        "accuracy_split = list(data.values())\n",
        "\n",
        "fig = plt.figure(figsize = (10, 5))\n",
        "\n",
        "plt.bar(Data_split, accuracy_split,\n",
        "        width = 0.3)\n",
        "plt.ylabel(\"No. of Instances\")\n",
        "plt.title(\"Data Split\")\n",
        "plt.show()"
      ]
    },
    {
      "cell_type": "code",
      "execution_count": null,
      "id": "3f6af2d4",
      "metadata": {
        "id": "3f6af2d4"
      },
      "outputs": [],
      "source": [
        "import math\n",
        "train_data_mean=train_data.copy()\n",
        "validation_data_mean=validation_data.copy()\n",
        "test_data_mean=test_data.copy()\n",
        "\n",
        "mean_insulin=train_data_mean['Insulin'].mean()\n",
        "mean_Glucose=train_data_mean['Glucose'].mean()\n",
        "mean_BloodPressure=train_data_mean['BloodPressure'].mean()\n",
        "mean_SkinThickness=train_data_mean['SkinThickness'].mean()\n",
        "mean_BMI=train_data_mean['BMI'].mean()\n",
        "\n",
        "train_data_mean.loc[train_data_mean['Insulin'] == 0, 'Insulin'] = mean_insulin\n",
        "train_data_mean.loc[train_data_mean['Glucose'] == 0, 'Glucose'] = mean_Glucose\n",
        "train_data_mean.loc[train_data_mean['BloodPressure'] == 0, 'BloodPressure'] = mean_BloodPressure\n",
        "train_data_mean.loc[train_data_mean['SkinThickness'] == 0, 'SkinThickness'] = mean_SkinThickness\n",
        "train_data_mean.loc[train_data_mean['BMI'] == 0, 'BMI'] = mean_BMI\n",
        "\n",
        "\n",
        "validation_data_mean.loc[validation_data_mean['Insulin'] == 0, 'Insulin'] = mean_insulin\n",
        "validation_data_mean.loc[validation_data_mean['Glucose'] == 0, 'Glucose'] = mean_Glucose\n",
        "validation_data_mean.loc[validation_data_mean['BloodPressure'] == 0, 'BloodPressure'] = mean_BloodPressure\n",
        "validation_data_mean.loc[validation_data_mean['SkinThickness'] == 0, 'SkinThickness'] = mean_SkinThickness\n",
        "validation_data_mean.loc[validation_data_mean['BMI'] == 0, 'BMI'] = mean_BMI\n",
        "\n",
        "\n",
        "test_data_mean.loc[test_data_mean['Insulin'] == 0, 'Insulin'] = mean_insulin\n",
        "test_data_mean.loc[test_data_mean['Glucose'] == 0, 'Glucose'] = mean_Glucose\n",
        "test_data_mean.loc[test_data_mean['BloodPressure'] == 0, 'BloodPressure'] = mean_BloodPressure\n",
        "test_data_mean.loc[test_data_mean['SkinThickness'] == 0, 'SkinThickness'] = mean_SkinThickness\n",
        "test_data_mean.loc[test_data_mean['BMI'] == 0, 'BMI'] = mean_BMI\n"
      ]
    },
    {
      "cell_type": "code",
      "execution_count": null,
      "id": "7a9b7ee5",
      "metadata": {
        "id": "7a9b7ee5"
      },
      "outputs": [],
      "source": [
        "#Normalize\n",
        "train_data_norm=train_data_mean.copy()\n",
        "validation_data_norm=validation_data_mean.copy()\n",
        "test_data_norm=test_data_mean.copy()\n",
        "for i in train_data_norm.columns[:-1]:\n",
        "    validation_data_norm[i]=(validation_data_norm[i]-train_data_norm[i].min())/(train_data_norm[i].max()-train_data_norm[i].min())\n",
        "    test_data_norm[i]=(test_data_norm[i]-train_data_norm[i].min())/(train_data_norm[i].max()-train_data_norm[i].min())\n",
        "    train_data_norm[i]=(train_data_norm[i]-train_data_norm[i].min())/(train_data_norm[i].max()-train_data_norm[i].min())\n",
        "\n",
        "train_data_norm_X=train_data_norm.drop('Outcome',axis=1)\n",
        "#train_data_norm_y=np.asmatrix(train_data_norm['Outcome'].values).T\n",
        "train_data_norm_y=train_data_norm.iloc[:, -1]\n",
        "\n",
        "validation_data_norm_X=validation_data_norm.drop('Outcome',axis=1)\n",
        "validation_data_norm_y=validation_data_norm.iloc[:, -1]\n",
        "\n",
        "test_data_norm_X=test_data_norm.drop('Outcome',axis=1)\n",
        "test_data_norm_y=test_data_norm.iloc[:, -1]"
      ]
    },
    {
      "cell_type": "code",
      "execution_count": null,
      "id": "a77eba55",
      "metadata": {
        "id": "a77eba55"
      },
      "outputs": [],
      "source": [
        "#Sigmoid function\n",
        "def sigmoid(z):\n",
        "    return (1/(1+np.exp(-z)))"
      ]
    },
    {
      "cell_type": "code",
      "execution_count": null,
      "id": "7f722971",
      "metadata": {
        "id": "7f722971"
      },
      "outputs": [],
      "source": [
        "#cost function: log loss\n",
        "def cost_func(y,z):\n",
        "    return -sum((y*np.log(z))+((1-y)*np.log(1-z)))/len(y)\n"
      ]
    },
    {
      "cell_type": "code",
      "execution_count": null,
      "id": "b8faa11f",
      "metadata": {
        "colab": {
          "base_uri": "https://localhost:8080/",
          "height": 482
        },
        "id": "b8faa11f",
        "outputId": "46d67dab-8a6a-4a78-ac03-ea4f034aaa97"
      },
      "outputs": [
        {
          "output_type": "display_data",
          "data": {
            "text/plain": [
              "<Figure size 640x480 with 1 Axes>"
            ],
            "image/png": "[encoded data removed]"
          },
          "metadata": {}
        },
        {
          "output_type": "stream",
          "name": "stdout",
          "text": [
            "Plot to represent Training and Validation loss\n",
            " Training_loss   0.47080981600544153 \n",
            " Validation_loss   0.45435019504434193\n"
          ]
        }
      ],
      "source": [
        "# LR\n",
        "loss_stored=[]\n",
        "loss_stored_val = []\n",
        "learning_rate =0.1\n",
        "weights=np.zeros(8)\n",
        "cnst=0.1\n",
        "for i in range(10000):\n",
        "    z=np.dot(train_data_norm_X,weights)+cnst\n",
        "    target_pred=sigmoid(z)\n",
        "    loss=cost_func(train_data_norm_y,target_pred)\n",
        "    gradient_weights=np.dot(train_data_norm_X.T,(target_pred-train_data_norm_y))/train_data_norm_X.shape[0]\n",
        "    gradient_cnst=np.mean(target_pred-train_data_norm_y)\n",
        "    weights=weights-learning_rate*gradient_weights\n",
        "    cnst=cnst-learning_rate*gradient_cnst\n",
        "    loss_stored.append(loss)\n",
        "\n",
        "    z_val=np.dot(validation_data_norm_X,weights)+cnst\n",
        "    target_pred_val=sigmoid(z_val)\n",
        "    loss_val=cost_func(validation_data_norm_y,target_pred_val)\n",
        "    loss_stored_val.append(loss_val)\n",
        "plt.plot(loss_stored, label='training_loss')\n",
        "plt.plot(loss_stored_val,label='validation_loss')\n",
        "plt.legend()\n",
        "plt.show()\n",
        "print('Plot to represent Training and Validation loss')\n",
        "print(\" Training_loss  \",loss_stored[-1],\"\\n Validation_loss  \",loss_stored_val[-1])\n"
      ]
    },
    {
      "cell_type": "markdown",
      "id": "0d3cba07",
      "metadata": {
        "id": "0d3cba07"
      },
      "source": [
        "<b>Functions to calculate accuracy"
      ]
    },
    {
      "cell_type": "code",
      "execution_count": null,
      "id": "a935c94d",
      "metadata": {
        "id": "a935c94d"
      },
      "outputs": [],
      "source": [
        "def predict(X,w,c):\n",
        "    for i in range (len(X)):\n",
        "        r=sigmoid(np.dot(X,w)+c)\n",
        "        y_predicted=[1 if i > 0.5 else 0 for i in r]\n",
        "        return np.array(y_predicted)\n",
        "\n",
        "def predicted_accuracy(actual_data_y,pred_data_y):\n",
        "    prob=np.sum(actual_data_y==pred_data_y)/len(actual_data_y)\n",
        "    return prob"
      ]
    },
    {
      "cell_type": "markdown",
      "id": "61fbdc37",
      "metadata": {
        "id": "61fbdc37"
      },
      "source": [
        "<b>Testing the model with Test data</b>"
      ]
    },
    {
      "cell_type": "code",
      "execution_count": null,
      "id": "cb1e1eb3",
      "metadata": {
        "colab": {
          "base_uri": "https://localhost:8080/"
        },
        "id": "cb1e1eb3",
        "outputId": "56123b4f-378e-4bca-98eb-a32d90f71a75"
      },
      "outputs": [
        {
          "output_type": "stream",
          "name": "stdout",
          "text": [
            "Test data accuracy:  80.51948051948052\n"
          ]
        }
      ],
      "source": [
        "#Test data accuracy\n",
        "y_predicted=predict(test_data_norm_X,weights,cnst)\n",
        "test_accuracy=predicted_accuracy(test_data_norm_y,y_predicted)*100\n",
        "print(\"Test data accuracy: \",test_accuracy)"
      ]
    },
    {
      "cell_type": "markdown",
      "id": "6a37e432",
      "metadata": {
        "id": "6a37e432"
      },
      "source": [
        "<b>Graphical representation of training, validation and test data accuracy."
      ]
    },
    {
      "cell_type": "code",
      "execution_count": null,
      "id": "aac8992a",
      "metadata": {
        "colab": {
          "base_uri": "https://localhost:8080/",
          "height": 487
        },
        "id": "aac8992a",
        "outputId": "86d66233-9f4d-4e1b-ffba-a1eaff9d4d3f"
      },
      "outputs": [
        {
          "output_type": "display_data",
          "data": {
            "text/plain": [
              "<Figure size 1000x500 with 1 Axes>"
            ],
            "image/png": "[encoded data removed]"
          },
          "metadata": {}
        }
      ],
      "source": [
        "data = {'Training Data':train_accuracy, 'Validation Data':validation_accuracy, 'Test Data':test_accuracy}\n",
        "Data_split = list(data.keys())\n",
        "accuracy_split = list(data.values())\n",
        "\n",
        "fig = plt.figure(figsize = (10, 5))\n",
        "\n",
        "plt.bar(Data_split, accuracy_split,\n",
        "        width = 0.3)\n",
        "plt.xlabel(\"Data split\")\n",
        "plt.ylabel(\"Accuracy %\")\n",
        "plt.title(\"Accuracy comparission\")\n",
        "plt.show()"
      ]
    },
    {
      "cell_type": "code",
      "source": [
        "from sklearn.metrics import confusion_matrix, accuracy_score, precision_score, recall_score, f1_score\n",
        "import matplotlib.pyplot as plt\n",
        "import seaborn as sns\n",
        "\n",
        "\n",
        "cm = confusion_matrix(test_data_norm_y,y_predicted)\n",
        "\n",
        "# Calculate accuracy, precision, recall, and f1-score\n",
        "accuracy = accuracy_score(test_data_norm_y,y_predicted)\n",
        "precision = precision_score(test_data_norm_y,y_predicted)\n",
        "recall = recall_score(test_data_norm_y,y_predicted)\n",
        "f1 = f1_score(test_data_norm_y,y_predicted)\n",
        "\n",
        "# Print accuracy, precision, recall, and f1-score\n",
        "print(\"Accuracy:\", accuracy)\n",
        "print(\"Precision:\", precision)\n",
        "print(\"Recall:\", recall)\n",
        "print(\"F1-Score:\", f1)\n",
        "\n",
        "# Plot confusion matrix in heatmap form\n",
        "plt.figure(figsize=(8, 6))\n",
        "sns.heatmap(cm, annot=True, cmap='Blues', fmt='g', cbar=False)\n",
        "plt.xlabel('Predicted labels')\n",
        "plt.ylabel('True labels')\n",
        "plt.title('Confusion Matrix')\n",
        "plt.show()\n"
      ],
      "metadata": {
        "colab": {
          "base_uri": "https://localhost:8080/",
          "height": 633
        },
        "id": "NojmN0fjNv-t",
        "outputId": "cd773ff0-4507-4f36-a714-513d0253b16b"
      },
      "id": "NojmN0fjNv-t",
      "execution_count": null,
      "outputs": [
        {
          "output_type": "stream",
          "name": "stdout",
          "text": [
            "Accuracy: 0.8051948051948052\n",
            "Precision: 0.7272727272727273\n",
            "Recall: 0.64\n",
            "F1-Score: 0.6808510638297872\n"
          ]
        },
        {
          "output_type": "display_data",
          "data": {
            "text/plain": [
              "<Figure size 800x600 with 1 Axes>"
            ],
            "image/png": "[encoded data removed]"
          },
          "metadata": {}
        }
      ]
    }
  ],
  "metadata": {
    "kernelspec": {
      "display_name": "Python 3",
      "language": "python",
      "name": "python3"
    },
    "language_info": {
      "codemirror_mode": {
        "name": "ipython",
        "version": 3
      },
      "file_extension": ".py",
      "mimetype": "text/x-python",
      "name": "python",
      "nbconvert_exporter": "python",
      "pygments_lexer": "ipython3",
      "version": "3.8.8"
    },
    "colab": {
      "provenance": [],
      "include_colab_link": true
    }
  },
  "nbformat": 4,
  "nbformat_minor": 5
}
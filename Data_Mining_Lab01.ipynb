{
  "nbformat": 4,
  "nbformat_minor": 0,
  "metadata": {
    "colab": {
      "provenance": [],
      "authorship_tag": "ABX9TyNfOT8lJH45FHf55mB5tHue",
      "include_colab_link": true
    },
    "kernelspec": {
      "name": "python3",
      "display_name": "Python 3"
    },
    "language_info": {
      "name": "python"
    }
  },
  "cells": [
    {
      "cell_type": "markdown",
      "metadata": {
        "id": "view-in-github",
        "colab_type": "text"
      },
      "source": [
        "<a href=\"https://colab.research.google.com/github/mishrark0145/datamining/blob/main/Data_Mining_Lab01.ipynb\" target=\"_parent\"><img src=\"https://colab.research.google.com/assets/colab-badge.svg\" alt=\"Open In Colab\"/></a>"
      ]
    },
    {
      "cell_type": "code",
      "execution_count": null,
      "metadata": {
        "colab": {
          "base_uri": "https://localhost:8080/"
        },
        "id": "PO5MjHnQelGq",
        "outputId": "fa75e96b-be6f-491c-c2b3-672565bcc27e"
      },
      "outputs": [
        {
          "output_type": "stream",
          "name": "stdout",
          "text": [
            "Enter the Length of the List: \n",
            "5\n",
            "Enter the number: \n",
            "2\n",
            "Enter the number: \n",
            "4\n",
            "Enter the number: \n",
            "3\n",
            "Enter the number: \n",
            "5\n",
            "Enter the number: \n",
            "1\n",
            "[2, 4, 3, 5, 1]\n"
          ]
        }
      ],
      "source": [
        "my_list = [];\n",
        "\n",
        "print(\"Enter the Length of the List: \")\n",
        "n = int(input())\n",
        "\n",
        "for _ in range(n):\n",
        "  print(\"Enter the number: \")\n",
        "  my_list.append(int(input()))\n",
        "\n",
        "if n%2 == 0:\n",
        "  median = (my_list[ n//2 -1] + my_list[ n//2]) / 2\n",
        "  right_index , left_index = n//2 - 1 , n//2\n",
        "  length = n//2\n",
        "  if (n//2)%2 == 0:\n",
        "    q1 = (my_list[ right_index//2 -1] + my_list[ right_index//2]) / 2\n",
        "    q2 = (my_list[ left_index//2 -1 + left_index] + my_list[ left_index//2 + left_index]) / 2\n",
        "\n",
        "  else:\n",
        "    q1 = my_list(right_index//2)\n",
        "    q2 = my_list(left_index//2 + left_index)\n",
        "\n",
        "else:\n",
        "  median = my_list[n//2];\n",
        "  right_index , left_index = n//2, n//2\n",
        "  length = n//2 + 1\n",
        "  if (n//2)%2 == 0:\n",
        "\n",
        "\n",
        "\n",
        "\n",
        "\n",
        "print(my_list)"
      ]
    },
    {
      "cell_type": "code",
      "source": [
        "# Import libraries\n",
        "import matplotlib.pyplot as plt\n",
        "import numpy as np\n",
        "\n",
        "\n",
        "\n",
        "np.random.seed(10)\n",
        "data = np.random.normal(100, 20, 200)\n",
        "\n",
        "fig = plt.figure(figsize =(10, 7))\n",
        "q1 = np.percentile(data , 25)\n",
        "q3 = np.percentile(data , 75)\n",
        "\n",
        "iqr = q3 -q1\n",
        "\n",
        "plt.boxplot(data)\n",
        "plt.show()\n",
        "\n",
        "print(\"Minimum :\" , data.min() )\n",
        "print(\"Quartile 1 :\" , q1)\n",
        "print(\" Mean :\" , data.mean())\n",
        "print(\"Quartile 3 :\" , q3 )\n",
        "print(\"Minimum :\" , data.max() )\n",
        "print(\"Standard Deviation :\" , data.std() )\n",
        "print(\"InterQuartile Range :\" , data.min() )\n"
      ],
      "metadata": {
        "colab": {
          "base_uri": "https://localhost:8080/",
          "height": 727
        },
        "id": "f0o1ehAhr6i5",
        "outputId": "9943fa24-418e-4530-8606-bb4c3e61e826"
      },
      "execution_count": null,
      "outputs": [
        {
          "output_type": "display_data",
          "data": {
            "text/plain": [
              "<Figure size 1000x700 with 1 Axes>"
            ],
            "image/png": "[encoded data removed]"
          },
          "metadata": {}
        },
        {
          "output_type": "stream",
          "name": "stdout",
          "text": [
            "Minimum : 40.40806457877732\n",
            "Quartile 1 : 90.32191683304455\n",
            " Mean : 101.48613846633367\n",
            "Quartile 3 : 113.2750582200367\n",
            "Minimum : 149.35302112869206\n",
            "Standard Deviation : 19.524868221195696\n",
            "InterQuartile Range : 40.40806457877732\n"
          ]
        }
      ]
    }
  ]
}
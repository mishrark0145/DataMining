{
  "nbformat": 4,
  "nbformat_minor": 0,
  "metadata": {
    "colab": {
      "provenance": [],
      "authorship_tag": "ABX9TyNsvriNhhj/C/BInJl0n9ia",
      "include_colab_link": true
    },
    "kernelspec": {
      "name": "python3",
      "display_name": "Python 3"
    },
    "language_info": {
      "name": "python"
    }
  },
  "cells": [
    {
      "cell_type": "markdown",
      "metadata": {
        "id": "view-in-github",
        "colab_type": "text"
      },
      "source": [
        "<a href=\"https://colab.research.google.com/github/mishrark0145/datamining/blob/main/Data_Mining_Lab05_DistanceMetrics.ipynb\" target=\"_parent\"><img src=\"https://colab.research.google.com/assets/colab-badge.svg\" alt=\"Open In Colab\"/></a>"
      ]
    },
    {
      "cell_type": "code",
      "execution_count": null,
      "metadata": {
        "colab": {
          "base_uri": "https://localhost:8080/"
        },
        "id": "emvP6X4YlBIB",
        "outputId": "1321fe2b-c8ee-4f8f-a6c2-de2a5b3921df"
      },
      "outputs": [
        {
          "output_type": "stream",
          "name": "stdout",
          "text": [
            "[4 6 1 0 7 2 3 4 7 2]\n",
            "[8 3 9 7 3 3 1 4 9 6]\n"
          ]
        }
      ],
      "source": [
        "import numpy as np\n",
        "import random\n",
        "\n",
        "x_coords=np.random.randint( 10 , size=10)\n",
        "print(x_coords)\n",
        "\n",
        "y_coords = np.random.randint( 10 ,size =10)\n",
        "\n",
        "print( y_coords)"
      ]
    },
    {
      "cell_type": "code",
      "source": [
        "dist = np.linalg.norm(x_coords - y_coords)\n",
        "\n",
        "# printing Euclidean distance\n",
        "print(dist)"
      ],
      "metadata": {
        "colab": {
          "base_uri": "https://localhost:8080/"
        },
        "id": "Yp1d9x4-o_lI",
        "outputId": "8ecbc057-06de-46f5-be53-3841b18506ef"
      },
      "execution_count": null,
      "outputs": [
        {
          "output_type": "stream",
          "name": "stdout",
          "text": [
            "13.379088160259652\n"
          ]
        }
      ]
    },
    {
      "cell_type": "code",
      "source": [
        "def euclidean_distance(x_coords, y_coords):\n",
        "    # Make sure both arrays have the same length\n",
        "    if len(x_coords) != len(y_coords):\n",
        "        raise ValueError(\"Arrays must have the same length\")\n",
        "\n",
        "    # Calculate the Euclidean distance for each pair of points\n",
        "    distances = (np.array(x_coords) - np.array(y_coords))**2\n",
        "\n",
        "    total_distance = np.sum(distances)\n",
        "\n",
        "    return total_distance\n",
        "\n",
        "distances = np.sqrt(euclidean_distance(x_coords, y_coords))\n",
        "print(distances)\n"
      ],
      "metadata": {
        "colab": {
          "base_uri": "https://localhost:8080/"
        },
        "id": "6qwaVmmJrIBT",
        "outputId": "aa4d642a-3e8a-4091-f353-591f6e1cef8e"
      },
      "execution_count": null,
      "outputs": [
        {
          "output_type": "stream",
          "name": "stdout",
          "text": [
            "13.379088160259652\n"
          ]
        }
      ]
    },
    {
      "cell_type": "code",
      "source": [
        "#plotting\n",
        "from scipy.spatial import distance\n",
        "import matplotlib.pyplot as plt\n",
        "point1 = [3,4]\n",
        "point2 =[7,1]\n",
        "print(distance.euclidean(point1,point2))\n",
        "xcor = [point1[0] , point2[0]]\n",
        "ycor = [point1[1],point2[1]]\n",
        "plt.plot(xcor , ycor,linestyle='-')\n",
        "plt.show()"
      ],
      "metadata": {
        "colab": {
          "base_uri": "https://localhost:8080/",
          "height": 447
        },
        "id": "RrouzZjr0No3",
        "outputId": "118c4030-a1e9-4ec5-f81e-44bf78b281b1"
      },
      "execution_count": null,
      "outputs": [
        {
          "output_type": "stream",
          "name": "stdout",
          "text": [
            "5.0\n"
          ]
        },
        {
          "output_type": "display_data",
          "data": {
            "text/plain": [
              "<Figure size 640x480 with 1 Axes>"
            ],
            "image/png": "[encoded data removed]"
          },
          "metadata": {}
        }
      ]
    },
    {
      "cell_type": "code",
      "source": [
        "#inbuilt to calculate manhattan distance\n",
        "from scipy.spatial.distance import cityblock\n",
        "cityblock(x_coords, y_coords)"
      ],
      "metadata": {
        "colab": {
          "base_uri": "https://localhost:8080/"
        },
        "id": "5sx83rUAvLy_",
        "outputId": "7960aac2-9a56-422e-e1ad-cdf0da7f3c25"
      },
      "execution_count": null,
      "outputs": [
        {
          "output_type": "execute_result",
          "data": {
            "text/plain": [
              "35"
            ]
          },
          "metadata": {},
          "execution_count": 22
        }
      ]
    },
    {
      "cell_type": "code",
      "source": [
        "#Manhattan Distance\n",
        "import numpy as np\n",
        "\n",
        "def manhattan_distance(x_coords, y_coords):\n",
        "    # Make sure both arrays have the same length\n",
        "    if len(x_coords) != len(y_coords):\n",
        "        raise ValueError(\"Arrays must have the same length\")\n",
        "\n",
        "    # Calculate the Manhattan distance for each pair of points\n",
        "    distances = np.abs(np.array(x_coords) - np.array(y_coords))\n",
        "\n",
        "    total_distance = np.sum(distances)\n",
        "\n",
        "    return total_distance\n",
        "\n",
        "distances = manhattan_distance(x_coords, y_coords)\n",
        "print(distances)\n"
      ],
      "metadata": {
        "colab": {
          "base_uri": "https://localhost:8080/"
        },
        "id": "GuGa5ix3sg-p",
        "outputId": "0960c9cf-0286-4ad6-95f6-67fc5617bc5f"
      },
      "execution_count": null,
      "outputs": [
        {
          "output_type": "stream",
          "name": "stdout",
          "text": [
            "35\n"
          ]
        }
      ]
    },
    {
      "cell_type": "code",
      "source": [
        "cityblock(point1, point2)\n",
        "plt.plot([point1[0], point2[0]], [point1[1], point1[1]])\n",
        "plt.plot([point2[0], point2[0]], [point1[1], point2[1]])\n",
        "plt.xlabel('X-axis')\n",
        "plt.ylabel('Y-axis')\n",
        "plt.grid(True)\n",
        "plt.show()\n"
      ],
      "metadata": {
        "colab": {
          "base_uri": "https://localhost:8080/",
          "height": 449
        },
        "id": "HWHTfpcU04uo",
        "outputId": "3251c7a4-6f0d-4e65-a8c8-e514542b8b0a"
      },
      "execution_count": null,
      "outputs": [
        {
          "output_type": "display_data",
          "data": {
            "text/plain": [
              "<Figure size 640x480 with 1 Axes>"
            ],
            "image/png": "[encoded data removed]"
          },
          "metadata": {}
        }
      ]
    },
    {
      "cell_type": "code",
      "source": [
        "p = int( input(\"Enter the value of p for minowski distance: \"))\n",
        "temp = 0\n",
        "for i in range(len(x_coords)):\n",
        "  temp = temp + pow((x_coords[i] - y_coords[i]) , p)\n",
        "\n",
        "minowski_dist = pow( temp , 1/p)\n",
        "print(minowski_dist)"
      ],
      "metadata": {
        "colab": {
          "base_uri": "https://localhost:8080/"
        },
        "id": "gqgjPY4Utahs",
        "outputId": "cf10cc18-61ed-4e48-b339-84fbe4e63556"
      },
      "execution_count": null,
      "outputs": [
        {
          "output_type": "stream",
          "name": "stdout",
          "text": [
            "Enter the value of p for minowski distance: 2\n",
            "13.379088160259652\n"
          ]
        }
      ]
    },
    {
      "cell_type": "code",
      "source": [
        "import numpy as np\n",
        "from numpy.linalg import norm\n",
        "\n",
        "# compute cosine similarity\n",
        "cosine = np.dot(x_coords,y_coords)/(norm(x_coords)*norm(x_coords))\n",
        "print(\"Cosine Similarity:\", cosine)"
      ],
      "metadata": {
        "colab": {
          "base_uri": "https://localhost:8080/"
        },
        "id": "IpJcVnt514tF",
        "outputId": "814c5577-1ca2-41cf-fda3-3b3e6ba2c098"
      },
      "execution_count": null,
      "outputs": [
        {
          "output_type": "stream",
          "name": "stdout",
          "text": [
            "Cosine Similarity: 0.9782608695652174\n"
          ]
        }
      ]
    }
  ]
}